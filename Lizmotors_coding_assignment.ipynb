{
 "cells": [
  {
   "cell_type": "code",
   "execution_count": 1,
   "id": "f3baad88",
   "metadata": {},
   "outputs": [
    {
     "name": "stdout",
     "output_type": "stream",
     "text": [
      "Collecting beautiful\n",
      "  Using cached beautiful-0.0.2-py3-none-any.whl (3.0 kB)\n",
      "Note: you may need to restart the kernel to use updated packages.\n"
     ]
    },
    {
     "name": "stderr",
     "output_type": "stream",
     "text": [
      "ERROR: Could not find a version that satisfies the requirement soup (from versions: none)\n",
      "ERROR: No matching distribution found for soup\n"
     ]
    }
   ],
   "source": [
    "pip install beautiful soup 4"
   ]
  },
  {
   "cell_type": "code",
   "execution_count": 2,
   "id": "2554a0c3",
   "metadata": {},
   "outputs": [
    {
     "name": "stdout",
     "output_type": "stream",
     "text": [
      "Requirement already satisfied: requests in c:\\users\\dhrubajyoti\\anaconda3\\lib\\site-packages (2.31.0)\n",
      "Requirement already satisfied: charset-normalizer<4,>=2 in c:\\users\\dhrubajyoti\\anaconda3\\lib\\site-packages (from requests) (2.0.4)\n",
      "Requirement already satisfied: idna<4,>=2.5 in c:\\users\\dhrubajyoti\\anaconda3\\lib\\site-packages (from requests) (3.4)\n",
      "Requirement already satisfied: urllib3<3,>=1.21.1 in c:\\users\\dhrubajyoti\\anaconda3\\lib\\site-packages (from requests) (1.26.18)\n",
      "Requirement already satisfied: certifi>=2017.4.17 in c:\\users\\dhrubajyoti\\anaconda3\\lib\\site-packages (from requests) (2023.11.17)\n",
      "Note: you may need to restart the kernel to use updated packages.\n"
     ]
    }
   ],
   "source": [
    "pip install requests"
   ]
  },
  {
   "cell_type": "code",
   "execution_count": 3,
   "id": "600688c7",
   "metadata": {},
   "outputs": [
    {
     "name": "stdout",
     "output_type": "stream",
     "text": [
      "Requirement already satisfied: googlesearch-python in c:\\users\\dhrubajyoti\\anaconda3\\lib\\site-packages (1.2.3)\n",
      "Requirement already satisfied: beautifulsoup4>=4.9 in c:\\users\\dhrubajyoti\\anaconda3\\lib\\site-packages (from googlesearch-python) (4.12.2)\n",
      "Requirement already satisfied: requests>=2.20 in c:\\users\\dhrubajyoti\\anaconda3\\lib\\site-packages (from googlesearch-python) (2.31.0)\n",
      "Requirement already satisfied: soupsieve>1.2 in c:\\users\\dhrubajyoti\\anaconda3\\lib\\site-packages (from beautifulsoup4>=4.9->googlesearch-python) (2.5)\n",
      "Requirement already satisfied: charset-normalizer<4,>=2 in c:\\users\\dhrubajyoti\\anaconda3\\lib\\site-packages (from requests>=2.20->googlesearch-python) (2.0.4)\n",
      "Requirement already satisfied: idna<4,>=2.5 in c:\\users\\dhrubajyoti\\anaconda3\\lib\\site-packages (from requests>=2.20->googlesearch-python) (3.4)\n",
      "Requirement already satisfied: urllib3<3,>=1.21.1 in c:\\users\\dhrubajyoti\\anaconda3\\lib\\site-packages (from requests>=2.20->googlesearch-python) (1.26.18)\n",
      "Requirement already satisfied: certifi>=2017.4.17 in c:\\users\\dhrubajyoti\\anaconda3\\lib\\site-packages (from requests>=2.20->googlesearch-python) (2023.11.17)\n",
      "Note: you may need to restart the kernel to use updated packages.\n"
     ]
    }
   ],
   "source": [
    "pip install googlesearch-python"
   ]
  },
  {
   "cell_type": "markdown",
   "id": "28907a16",
   "metadata": {},
   "source": [
    "Importing Dictionaries"
   ]
  },
  {
   "cell_type": "code",
   "execution_count": 5,
   "id": "d9fc2022",
   "metadata": {},
   "outputs": [],
   "source": [
    "import pandas as pd\n",
    "from googlesearch import search\n",
    "import requests\n",
    "from bs4 import BeautifulSoup\n",
    "from newspaper import Article"
   ]
  },
  {
   "cell_type": "markdown",
   "id": "9acab8c7",
   "metadata": {},
   "source": [
    "List of queries to be passed to googlesearch API"
   ]
  },
  {
   "cell_type": "code",
   "execution_count": 6,
   "id": "4da82329",
   "metadata": {},
   "outputs": [],
   "source": [
    "query_list=['Identify the industry in which Canoo operates, along with its size, growth rate, trends, and key players.','Analyze Canoo\\'s main competitors, including their market share, products or services offered, pricing strategies, and marketing efforts. ','Identify key trends in the market, including changes in consumer behavior, technological advancements, and shifts in the competitive landscape','Gather information on Canoo\\'s financial performance, including its revenue, profit margins, return on investment, and expense structure. ']"
   ]
  },
  {
   "cell_type": "code",
   "execution_count": 29,
   "id": "b684f7dd",
   "metadata": {},
   "outputs": [
    {
     "data": {
      "text/plain": [
       "4"
      ]
     },
     "execution_count": 29,
     "metadata": {},
     "output_type": "execute_result"
    }
   ],
   "source": [
    "len(query_list)"
   ]
  },
  {
   "cell_type": "markdown",
   "id": "bf71926e",
   "metadata": {},
   "source": [
    "Writing functions for various tasks"
   ]
  },
  {
   "cell_type": "code",
   "execution_count": 7,
   "id": "b3f8c080",
   "metadata": {},
   "outputs": [],
   "source": [
    "def google_search(query,n):\n",
    "    search_results=[]\n",
    "    for result in search(query,sleep_interval=5,num_results=n):\n",
    "        search_results.append(result)\n",
    "    return search_results"
   ]
  },
  {
   "cell_type": "code",
   "execution_count": 10,
   "id": "8e8a6b0d",
   "metadata": {},
   "outputs": [],
   "source": [
    "def extract_article_content(url):\n",
    "    try:\n",
    "        article = Article(url)\n",
    "        article.download()\n",
    "        article.parse()\n",
    "        return article.text\n",
    "    except:\n",
    "        pass"
   ]
  },
  {
   "cell_type": "code",
   "execution_count": 15,
   "id": "01c37f40",
   "metadata": {},
   "outputs": [],
   "source": [
    "def main_function(query):\n",
    "    lis=[]\n",
    "    lis=google_search(query,1)\n",
    "    s=\"\"\n",
    "    for url in lis:\n",
    "        if(extract_article_content(url)!=None):\n",
    "            s+=extract_article_content(url)\n",
    "    s=s.replace('\\n',\" \")\n",
    "    return s"
   ]
  },
  {
   "cell_type": "markdown",
   "id": "469c0823",
   "metadata": {},
   "source": [
    "Creating a pandas dataframe and adding content to the dataframe"
   ]
  },
  {
   "cell_type": "code",
   "execution_count": 65,
   "id": "7572e2d0",
   "metadata": {},
   "outputs": [],
   "source": [
    "df= pd.DataFrame(columns=query_list)"
   ]
  },
  {
   "cell_type": "code",
   "execution_count": 74,
   "id": "bc41dd14",
   "metadata": {},
   "outputs": [
    {
     "data": {
      "text/html": [
       "<div>\n",
       "<style scoped>\n",
       "    .dataframe tbody tr th:only-of-type {\n",
       "        vertical-align: middle;\n",
       "    }\n",
       "\n",
       "    .dataframe tbody tr th {\n",
       "        vertical-align: top;\n",
       "    }\n",
       "\n",
       "    .dataframe thead th {\n",
       "        text-align: right;\n",
       "    }\n",
       "</style>\n",
       "<table border=\"1\" class=\"dataframe\">\n",
       "  <thead>\n",
       "    <tr style=\"text-align: right;\">\n",
       "      <th></th>\n",
       "      <th>Identify the industry in which Canoo operates, along with its size, growth rate, trends, and key players.</th>\n",
       "      <th>Analyze Canoo's main competitors, including their market share, products or services offered, pricing strategies, and marketing efforts.</th>\n",
       "      <th>Identify key trends in the market, including changes in consumer behavior, technological advancements, and shifts in the competitive landscape</th>\n",
       "      <th>Gather information on Canoo's financial performance, including its revenue, profit margins, return on investment, and expense structure.</th>\n",
       "    </tr>\n",
       "  </thead>\n",
       "  <tbody>\n",
       "  </tbody>\n",
       "</table>\n",
       "</div>"
      ],
      "text/plain": [
       "Empty DataFrame\n",
       "Columns: [Identify the industry in which Canoo operates, along with its size, growth rate, trends, and key players., Analyze Canoo's main competitors, including their market share, products or services offered, pricing strategies, and marketing efforts. , Identify key trends in the market, including changes in consumer behavior, technological advancements, and shifts in the competitive landscape, Gather information on Canoo's financial performance, including its revenue, profit margins, return on investment, and expense structure. ]\n",
       "Index: []"
      ]
     },
     "execution_count": 74,
     "metadata": {},
     "output_type": "execute_result"
    }
   ],
   "source": [
    "df"
   ]
  },
  {
   "cell_type": "markdown",
   "id": "e49fed14",
   "metadata": {},
   "source": [
    "Adding data to the dataframe"
   ]
  },
  {
   "cell_type": "code",
   "execution_count": 76,
   "id": "ae53b068",
   "metadata": {},
   "outputs": [],
   "source": [
    "df.loc[0]= [main_function(query_list[0])]+[main_function(query_list[1])]+[main_function(query_list[2])]+[main_function(query_list[3])]"
   ]
  },
  {
   "cell_type": "code",
   "execution_count": 77,
   "id": "3f13486c",
   "metadata": {},
   "outputs": [
    {
     "data": {
      "text/html": [
       "<div>\n",
       "<style scoped>\n",
       "    .dataframe tbody tr th:only-of-type {\n",
       "        vertical-align: middle;\n",
       "    }\n",
       "\n",
       "    .dataframe tbody tr th {\n",
       "        vertical-align: top;\n",
       "    }\n",
       "\n",
       "    .dataframe thead th {\n",
       "        text-align: right;\n",
       "    }\n",
       "</style>\n",
       "<table border=\"1\" class=\"dataframe\">\n",
       "  <thead>\n",
       "    <tr style=\"text-align: right;\">\n",
       "      <th></th>\n",
       "      <th>Identify the industry in which Canoo operates, along with its size, growth rate, trends, and key players.</th>\n",
       "      <th>Analyze Canoo's main competitors, including their market share, products or services offered, pricing strategies, and marketing efforts.</th>\n",
       "      <th>Identify key trends in the market, including changes in consumer behavior, technological advancements, and shifts in the competitive landscape</th>\n",
       "      <th>Gather information on Canoo's financial performance, including its revenue, profit margins, return on investment, and expense structure.</th>\n",
       "    </tr>\n",
       "  </thead>\n",
       "  <tbody>\n",
       "    <tr>\n",
       "      <th>0</th>\n",
       "      <td>Global \"Canoe Market\" report indicates a consi...</td>\n",
       "      <td>Gain a 360-degree view of Canoo and make more ...</td>\n",
       "      <td>In today's dynamic marketplace, understanding ...</td>\n",
       "      <td>- Definition The aggregate costs incurred (1) ...</td>\n",
       "    </tr>\n",
       "  </tbody>\n",
       "</table>\n",
       "</div>"
      ],
      "text/plain": [
       "  Identify the industry in which Canoo operates, along with its size, growth rate, trends, and key players.  \\\n",
       "0  Global \"Canoe Market\" report indicates a consi...                                                          \n",
       "\n",
       "  Analyze Canoo's main competitors, including their market share, products or services offered, pricing strategies, and marketing efforts.   \\\n",
       "0  Gain a 360-degree view of Canoo and make more ...                                                                                          \n",
       "\n",
       "  Identify key trends in the market, including changes in consumer behavior, technological advancements, and shifts in the competitive landscape  \\\n",
       "0  In today's dynamic marketplace, understanding ...                                                                                               \n",
       "\n",
       "  Gather information on Canoo's financial performance, including its revenue, profit margins, return on investment, and expense structure.   \n",
       "0  - Definition The aggregate costs incurred (1) ...                                                                                         "
      ]
     },
     "execution_count": 77,
     "metadata": {},
     "output_type": "execute_result"
    }
   ],
   "source": [
    "df"
   ]
  },
  {
   "cell_type": "code",
   "execution_count": 78,
   "id": "71f5e38d",
   "metadata": {},
   "outputs": [
    {
     "data": {
      "text/html": [
       "<div>\n",
       "<style scoped>\n",
       "    .dataframe tbody tr th:only-of-type {\n",
       "        vertical-align: middle;\n",
       "    }\n",
       "\n",
       "    .dataframe tbody tr th {\n",
       "        vertical-align: top;\n",
       "    }\n",
       "\n",
       "    .dataframe thead th {\n",
       "        text-align: right;\n",
       "    }\n",
       "</style>\n",
       "<table border=\"1\" class=\"dataframe\">\n",
       "  <thead>\n",
       "    <tr style=\"text-align: right;\">\n",
       "      <th></th>\n",
       "      <th>Identify the industry in which Canoo operates, along with its size, growth rate, trends, and key players.</th>\n",
       "      <th>Analyze Canoo's main competitors, including their market share, products or services offered, pricing strategies, and marketing efforts.</th>\n",
       "      <th>Identify key trends in the market, including changes in consumer behavior, technological advancements, and shifts in the competitive landscape</th>\n",
       "      <th>Gather information on Canoo's financial performance, including its revenue, profit margins, return on investment, and expense structure.</th>\n",
       "    </tr>\n",
       "  </thead>\n",
       "  <tbody>\n",
       "    <tr>\n",
       "      <th>0</th>\n",
       "      <td>Global \"Canoe Market\" report indicates a consi...</td>\n",
       "      <td>Gain a 360-degree view of Canoo and make more ...</td>\n",
       "      <td>In today's dynamic marketplace, understanding ...</td>\n",
       "      <td>- Definition The aggregate costs incurred (1) ...</td>\n",
       "    </tr>\n",
       "  </tbody>\n",
       "</table>\n",
       "</div>"
      ],
      "text/plain": [
       "  Identify the industry in which Canoo operates, along with its size, growth rate, trends, and key players.  \\\n",
       "0  Global \"Canoe Market\" report indicates a consi...                                                          \n",
       "\n",
       "  Analyze Canoo's main competitors, including their market share, products or services offered, pricing strategies, and marketing efforts.   \\\n",
       "0  Gain a 360-degree view of Canoo and make more ...                                                                                          \n",
       "\n",
       "  Identify key trends in the market, including changes in consumer behavior, technological advancements, and shifts in the competitive landscape  \\\n",
       "0  In today's dynamic marketplace, understanding ...                                                                                               \n",
       "\n",
       "  Gather information on Canoo's financial performance, including its revenue, profit margins, return on investment, and expense structure.   \n",
       "0  - Definition The aggregate costs incurred (1) ...                                                                                         "
      ]
     },
     "metadata": {},
     "output_type": "display_data"
    }
   ],
   "source": [
    "display(df)"
   ]
  },
  {
   "cell_type": "markdown",
   "id": "9e64b2f5",
   "metadata": {},
   "source": [
    "Saving and exporting the file in csv format"
   ]
  },
  {
   "cell_type": "code",
   "execution_count": 79,
   "id": "5dfdeb31",
   "metadata": {},
   "outputs": [],
   "source": [
    "df.to_csv('final_output.csv',index=False)"
   ]
  },
  {
   "cell_type": "code",
   "execution_count": null,
   "id": "32a4d66c",
   "metadata": {},
   "outputs": [],
   "source": []
  }
 ],
 "metadata": {
  "kernelspec": {
   "display_name": "Python 3 (ipykernel)",
   "language": "python",
   "name": "python3"
  },
  "language_info": {
   "codemirror_mode": {
    "name": "ipython",
    "version": 3
   },
   "file_extension": ".py",
   "mimetype": "text/x-python",
   "name": "python",
   "nbconvert_exporter": "python",
   "pygments_lexer": "ipython3",
   "version": "3.9.18"
  }
 },
 "nbformat": 4,
 "nbformat_minor": 5
}
